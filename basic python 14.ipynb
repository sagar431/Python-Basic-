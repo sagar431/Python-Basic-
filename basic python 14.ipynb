{
 "cells": [
  {
   "cell_type": "markdown",
   "id": "39204626",
   "metadata": {},
   "source": [
    "1. What does RGBA stand for?\n",
    "2. From the Pillow module, how do you get the RGBA value of any images?\n",
    "3. What is a box tuple, and how does it work?\n",
    "4. Use your image and load in notebook then, How can you find out the width and height of an\n",
    "Image object?\n",
    "5. What method would you call to get Image object for a 100×100 image, excluding the lower-left\n",
    "quarter of it?\n",
    "6. After making changes to an Image object, how could you save it as an image file?\n",
    "7. What module contains Pillow’s shape-drawing code?\n",
    "8. Image objects do not have drawing methods. What kind of object does? How do you get this kind\n",
    "of object?"
   ]
  },
  {
   "cell_type": "markdown",
   "id": "5163c985",
   "metadata": {},
   "source": [
    "# Answeer"
   ]
  },
  {
   "cell_type": "markdown",
   "id": "c46994dd",
   "metadata": {},
   "source": [
    "1. RGBA stands for Red, Green, Blue, and Alpha. It is a color model that represents colors using the intensity of red, green, and blue, along with an alpha channel that controls the transparency or opacity of the color.\n",
    "2. To get the RGBA value of an image using the Pillow module in Python, you can use the `getpixel()` method of the Image object. This method returns a tuple of RGBA values for a specific pixel in the image, specified by its (x, y) coordinates.\n",
    "3. In Pillow, a box tuple is a tuple that represents a rectangular region in an image. It is defined as a tuple of four values: (left, upper, right, lower), where left and upper are the coordinates of the top-left corner of the rectangle, and right and lower are the coordinates of the bottom-right corner of the rectangle. This tuple can be used to crop, resize, or copy a rectangular region of an image.\n",
    "4. To find out the width and height of an Image object in Pillow, you can use the `size` attribute. It returns a tuple of two values: (width, height).\n",
    "5. To get an Image object for a 100x100 image, excluding the lower-left quarter of it, you can use the `crop()` method of the Image object. The `crop()` method takes a box tuple as an argument, specifying the rectangular region to crop. To exclude the lower-left quarter of the image, you can use the box tuple `(0, 50, 50, 100)`, which specifies the region from (0, 50) to (50, 100).\n",
    "6. To save an Image object as an image file in Pillow, you can use the `save()` method of the Image object. The `save()` method takes the filename to save the image as, along with the format of the image (such as JPEG, PNG, etc.). For example, to save an image object named `img` as a JPEG file named `output.jpg`, you can use the following code:\n",
    "```\n",
    "img.save('output.jpg', 'JPEG')\n",
    "```\n",
    "7. The `ImageDraw` module contains Pillow's shape-drawing code. This module provides methods to draw various shapes, lines, and text on an Image object.\n",
    "8. ImageDraw objects have drawing methods in Pillow. To get an ImageDraw object, you can use the `ImageDraw.Draw()` method, passing in the Image object you want to draw on as an argument. For example, to get an ImageDraw object for an Image object named `img`, you can use the following code:\n",
    "```\n",
    "from PIL import Image, ImageDraw\n",
    "\n",
    "draw = ImageDraw.Draw(img)\n",
    "```"
   ]
  },
  {
   "cell_type": "code",
   "execution_count": null,
   "id": "a117e662",
   "metadata": {},
   "outputs": [],
   "source": []
  }
 ],
 "metadata": {
  "kernelspec": {
   "display_name": "Python 3 (ipykernel)",
   "language": "python",
   "name": "python3"
  },
  "language_info": {
   "codemirror_mode": {
    "name": "ipython",
    "version": 3
   },
   "file_extension": ".py",
   "mimetype": "text/x-python",
   "name": "python",
   "nbconvert_exporter": "python",
   "pygments_lexer": "ipython3",
   "version": "3.9.12"
  }
 },
 "nbformat": 4,
 "nbformat_minor": 5
}
