{
 "cells": [
  {
   "cell_type": "markdown",
   "id": "2a5ec603",
   "metadata": {},
   "source": [
    "1. What does an empty dictionary&#39;s code look like?\n",
    "2. What is the value of a dictionary value with the key &#39;foo&#39; and the value 42?\n",
    "3. What is the most significant distinction between a dictionary and a list?\n",
    "4. What happens if you try to access spam[&#39;foo&#39;] if spam is {&#39;bar&#39;: 100}?\n",
    "5. If a dictionary is stored in spam, what is the difference between the expressions &#39;cat&#39; in spam and\n",
    "&#39;cat&#39; in spam.keys()?\n",
    "6. If a dictionary is stored in spam, what is the difference between the expressions &#39;cat&#39; in spam and\n",
    "&#39;cat&#39; in spam.values()?\n",
    "7. What is a shortcut for the following code?\n",
    "if &#39;color&#39; not in spam:\n",
    "spam[&#39;color&#39;] = &#39;black&#39;\n",
    "\n",
    "8. How do you &quot;pretty print&quot; dictionary values using which module and function?"
   ]
  },
  {
   "cell_type": "markdown",
   "id": "d93ccc3c",
   "metadata": {},
   "source": [
    "# Answer"
   ]
  },
  {
   "cell_type": "markdown",
   "id": "d1dd34d7",
   "metadata": {},
   "source": [
    "1. An empty dictionary's code looks like this: {}.\n",
    "2. The value of a dictionary value with the key 'foo' and the value 42 would look like this: {'foo': 42}.\n",
    "3. The most significant distinction between a dictionary and a list is that a dictionary stores values in key-value pairs, while a list stores values in a single sequence.\n",
    "4. If you try to access spam['foo'] and spam is {'bar': 100}, you will receive a KeyError because the key 'foo' does not exist in the dictionary.\n",
    "5. The expression 'cat' in spam checks if the key 'cat' is in the dictionary, while the expression 'cat' in spam.keys() returns a list of all the keys in the dictionary and checks if 'cat' is in that list.\n",
    "6. The expression 'cat' in spam checks if the key 'cat' is in the dictionary, while the expression 'cat' in spam.values() returns a list of all the values in the dictionary and checks if 'cat' is in that list.\n",
    "7. A shortcut for the code is: spam.setdefault('color', 'black')\n",
    "8. The module used for pretty printing dictionary values is pprint (Pretty Print). The function used is pprint()."
   ]
  },
  {
   "cell_type": "code",
   "execution_count": null,
   "id": "f0117317",
   "metadata": {},
   "outputs": [],
   "source": []
  }
 ],
 "metadata": {
  "kernelspec": {
   "display_name": "Python 3 (ipykernel)",
   "language": "python",
   "name": "python3"
  },
  "language_info": {
   "codemirror_mode": {
    "name": "ipython",
    "version": 3
   },
   "file_extension": ".py",
   "mimetype": "text/x-python",
   "name": "python",
   "nbconvert_exporter": "python",
   "pygments_lexer": "ipython3",
   "version": "3.9.12"
  }
 },
 "nbformat": 4,
 "nbformat_minor": 5
}
