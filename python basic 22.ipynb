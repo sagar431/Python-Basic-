{
 "cells": [
  {
   "cell_type": "markdown",
   "id": "2756001d",
   "metadata": {},
   "source": [
    "1. What is the result of the code, and explain?\n",
    "\n",
    "&gt;&gt;&gt; X = &#39;iNeuron&#39;\n",
    "&gt;&gt;&gt; def func():\n",
    "print(X)\n",
    "\n",
    "&gt;&gt;&gt; func()\n",
    "\n",
    "2. What is the result of the code, and explain?\n",
    "\n",
    "&gt;&gt;&gt; X = &#39;iNeuron&#39;\n",
    "&gt;&gt;&gt; def func():\n",
    "X = &#39;NI!&#39;\n",
    "\n",
    "&gt;&gt;&gt; func()\n",
    "&gt;&gt;&gt; print(X)\n",
    "\n",
    "3. What does this code print, and why?\n",
    "\n",
    "&gt;&gt;&gt; X = &#39;iNeuron&#39;\n",
    "&gt;&gt;&gt; def func():\n",
    "X = &#39;NI&#39;\n",
    "print(X)\n",
    "\n",
    "&gt;&gt;&gt; func()\n",
    "&gt;&gt;&gt; print(X)\n",
    "\n",
    "4. What output does this code produce? Why?\n",
    "\n",
    "&gt;&gt;&gt; X = &#39;iNeuron&#39;\n",
    "&gt;&gt;&gt; def func():\n",
    "global X\n",
    "X = &#39;NI&#39;\n",
    "\n",
    "&gt;&gt;&gt; func()\n",
    "&gt;&gt;&gt; print(X)\n",
    "\n",
    "5. What about this code—what’s the output, and why?\n",
    "\n",
    "&gt;&gt;&gt; X = &#39;iNeuron&#39;\n",
    "&gt;&gt;&gt; def func():\n",
    "X = &#39;NI&#39;\n",
    "def nested():\n",
    "print(X)\n",
    "nested()\n",
    "\n",
    "&gt;&gt;&gt; func()\n",
    "&gt;&gt;&gt; X\n",
    "\n",
    "6. How about this code: what is its output in Python 3, and explain?\n",
    "\n",
    "&gt;&gt;&gt; def func():\n",
    "X = &#39;NI&#39;\n",
    "def nested():\n",
    "nonlocal X\n",
    "X = &#39;Spam&#39;\n",
    "nested()\n",
    "print(X)\n",
    "\n",
    "&gt;&gt;&gt; func()"
   ]
  },
  {
   "cell_type": "markdown",
   "id": "ece71cc1",
   "metadata": {},
   "source": [
    "1. The output of the code will be \"iNeuron\". Here, the function `func()` is defined without any parameters and it prints the value of the global variable `X` which is assigned the string \"iNeuron\". When the function is called, it prints the value of `X`.\n",
    "\n",
    "2. The result of the code will be \"iNeuron\". Here, the function `func()` is defined with a local variable `X` which is assigned the string \"NI!\". When the function is called, it assigns the value \"NI!\" to `X` locally, but the global variable `X` remains unchanged. When `print(X)` is called outside the function, it prints the global variable `X` which is still \"iNeuron\".\n",
    "\n",
    "3. The code will print \"NI\". Here, the function `func()` defines a local variable `X` which is assigned the string \"NI\". When the function is called, it assigns the value \"NI\" to `X` locally, and prints it. However, the global variable `X` remains unchanged. When `print(X)` is called outside the function, it prints the global variable `X` which is still \"iNeuron\".\n",
    "\n",
    "4. The code will print \"NI\". Here, the function `func()` defines a global variable `X` using the `global` keyword, and assigns it the value \"NI\". When the function is called, it assigns the value \"NI\" to the global variable `X`, which changes its value to \"NI\". When `print(X)` is called outside the function, it prints the updated value of the global variable `X`.\n",
    "\n",
    "5. The output of the code will be \"NI\". Here, the function `func()` defines a local variable `X` which is assigned the string \"NI\". Then it defines another function `nested()` which prints the value of `X`. When `nested()` is called inside `func()`, it prints the value of `X` which is \"NI\". Since `nested()` is a nested function inside `func()`, it has access to the local variable `X` defined in `func()`. When `func()` is called outside the function, it does not return any value. When `X` is called outside the function, it prints the global variable `X` which is still \"iNeuron\".\n",
    "\n",
    "6. This code will print \"Spam\". Here, the function `func()` defines a local variable `X` which is assigned the string \"NI\". Then it defines another function `nested()` which uses the `nonlocal` keyword to indicate that `X` refers to the variable defined in the enclosing scope of `func()`. When `nested()` is called inside `func()`, it assigns the value \"Spam\" to the variable `X` defined in `func()`. When `func()` is called, it calls `nested()` which changes the value of `X` to \"Spam\", and then `func()` prints the updated value of `X` which is \"Spam\"."
   ]
  },
  {
   "cell_type": "code",
   "execution_count": null,
   "id": "25d31f16",
   "metadata": {},
   "outputs": [],
   "source": []
  }
 ],
 "metadata": {
  "kernelspec": {
   "display_name": "Python 3 (ipykernel)",
   "language": "python",
   "name": "python3"
  },
  "language_info": {
   "codemirror_mode": {
    "name": "ipython",
    "version": 3
   },
   "file_extension": ".py",
   "mimetype": "text/x-python",
   "name": "python",
   "nbconvert_exporter": "python",
   "pygments_lexer": "ipython3",
   "version": "3.9.12"
  }
 },
 "nbformat": 4,
 "nbformat_minor": 5
}
