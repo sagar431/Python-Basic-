{
 "cells": [
  {
   "cell_type": "markdown",
   "id": "2f9106d0",
   "metadata": {},
   "source": [
    "1. What is the result of the code, and why?\n",
    "&gt;&gt;&gt; def func(a, b=6, c=8):\n",
    "print(a, b, c)\n",
    "&gt;&gt;&gt; func(1, 2)\n",
    "2. What is the result of this code, and why?\n",
    "&gt;&gt;&gt; def func(a, b, c=5):\n",
    "print(a, b, c)\n",
    "&gt;&gt;&gt; func(1, c=3, b=2)\n",
    "3. How about this code: what is its result, and why?\n",
    "&gt;&gt;&gt; def func(a, *pargs):\n",
    "print(a, pargs)\n",
    "&gt;&gt;&gt; func(1, 2, 3)\n",
    "4. What does this code print, and why?\n",
    "&gt;&gt;&gt; def func(a, **kargs):\n",
    "print(a, kargs)\n",
    "&gt;&gt;&gt; func(a=1, c=3, b=2)\n",
    "5. What gets printed by this, and explain?\n",
    "&gt;&gt;&gt; def func(a, b, c=8, d=5): print(a, b, c, d)\n",
    "&gt;&gt;&gt; func(1, *(5, 6))\n",
    "6. what is the result of this, and explain?\n",
    "&gt;&gt;&gt; def func(a, b, c): a = 2; b[0] = &#39;x&#39;; c[&#39;a&#39;] = &#39;y&#39;\n",
    "&gt;&gt;&gt; l=1; m=[1]; n={&#39;a&#39;:0}\n",
    "&gt;&gt;&gt; func(l, m, n)\n",
    "\n",
    "&gt;&gt;&gt; l, m, n"
   ]
  },
  {
   "cell_type": "markdown",
   "id": "bb562414",
   "metadata": {},
   "source": [
    "# Answer"
   ]
  },
  {
   "cell_type": "markdown",
   "id": "3902aed2",
   "metadata": {},
   "source": [
    "1. The result of the code `func(1, 2)` will be `1 2 8`. The value `1` is passed as the first argument to the function and is assigned to the parameter `a`. The value `2` is passed as the second argument and is assigned to the parameter `b`, which overrides the default value of `6`. Since no value is passed for the third parameter `c`, it takes its default value of `8`.\n",
    "\n",
    "2. The result of the code `func(1, c=3, b=2)` will be `1 2 3`. In this case, the values of `1`, `2`, and `3` are assigned to the parameters `a`, `b`, and `c`, respectively, with the named arguments overriding the order of the arguments.\n",
    "\n",
    "3. The result of the code `func(1, 2, 3)` will be `1 (2, 3)`. The parameter `a` is assigned the value `1`, and the remaining arguments are passed as a tuple to the parameter `pargs`.\n",
    "\n",
    "4. The code `func(a=1, c=3, b=2)` will print `1 {'c': 3, 'b': 2}`. Here, `a` is assigned the value `1`, and the named arguments `c` and `b` are assigned the values `3` and `2`, respectively, and are packed into a dictionary and assigned to the parameter `kargs`.\n",
    "\n",
    "5. The code `func(1, *(5, 6))` will print `1 5 6 5`. The asterisk operator `*` is used to unpack the tuple `(5, 6)` and pass its elements as separate arguments to the function. So, `1` is assigned to the parameter `a`, `5` is assigned to the parameter `b`, and `6` overrides the default value of `8` for the parameter `c`. The value of `5` is assigned to the parameter `d`, since no value is provided for it.\n",
    "\n",
    "6. The result of the code `l` will be `1`, the result of `m` will be `['x']`, and the result of `n` will be `{'a': 'y'}`. In this code, `a` is assigned the value `2`, which does not affect the values of `l`, `m`, and `n`. `b[0]` refers to the first element of the list `m`, which is modified to `'x'`. The expression `c['a']` refers to the value associated with the key `'a'` in the dictionary `n`, which is modified to `'y'`. Since lists and dictionaries are mutable objects, their values can be modified within the function, and these modifications will be reflected in the values of `m` and `n` outside the function. However, `l` is an immutable integer object, so assigning a new value to `a` does not affect its value outside the function."
   ]
  },
  {
   "cell_type": "code",
   "execution_count": null,
   "id": "9ce1f281",
   "metadata": {},
   "outputs": [],
   "source": []
  }
 ],
 "metadata": {
  "kernelspec": {
   "display_name": "Python 3 (ipykernel)",
   "language": "python",
   "name": "python3"
  },
  "language_info": {
   "codemirror_mode": {
    "name": "ipython",
    "version": 3
   },
   "file_extension": ".py",
   "mimetype": "text/x-python",
   "name": "python",
   "nbconvert_exporter": "python",
   "pygments_lexer": "ipython3",
   "version": "3.9.12"
  }
 },
 "nbformat": 4,
 "nbformat_minor": 5
}
